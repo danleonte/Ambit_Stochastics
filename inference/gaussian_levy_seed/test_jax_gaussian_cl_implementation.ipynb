{
 "cells": [
  {
   "cell_type": "code",
   "execution_count": null,
   "id": "50fde2be",
   "metadata": {},
   "outputs": [],
   "source": []
  },
  {
   "cell_type": "code",
   "execution_count": 1,
   "id": "86d95730",
   "metadata": {},
   "outputs": [
    {
     "name": "stderr",
     "output_type": "stream",
     "text": [
      "2023-06-21 16:48:07.351597: W external/org_tensorflow/tensorflow/tsl/platform/default/dso_loader.cc:67] Could not load dynamic library 'libcudart.so.11.0'; dlerror: libcudart.so.11.0: cannot open shared object file: No such file or directory\n",
      "2023-06-21 16:48:07.412896: W external/org_tensorflow/tensorflow/tsl/platform/default/dso_loader.cc:67] Could not load dynamic library 'libcudart.so.11.0'; dlerror: libcudart.so.11.0: cannot open shared object file: No such file or directory\n",
      "2023-06-21 16:48:07.415902: W external/org_tensorflow/tensorflow/tsl/platform/default/dso_loader.cc:67] Could not load dynamic library 'libcudart.so.11.0'; dlerror: libcudart.so.11.0: cannot open shared object file: No such file or directory\n"
     ]
    },
    {
     "name": "stdout",
     "output_type": "stream",
     "text": [
      "Default precision is in jax_aux file is:  <class 'jax.numpy.float64'>\n"
     ]
    },
    {
     "name": "stderr",
     "output_type": "stream",
     "text": [
      "2023-06-21 16:48:08.847354: E external/org_tensorflow/tensorflow/compiler/xla/stream_executor/cuda/cuda_driver.cc:266] failed call to cuInit: CUDA_ERROR_NO_DEVICE: no CUDA-capable device is detected\n",
      "No GPU/TPU found, falling back to CPU. (Set TF_CPP_MIN_LOG_LEVEL=0 and rerun for more info.)\n"
     ]
    },
    {
     "name": "stdout",
     "output_type": "stream",
     "text": [
      "Default precision is:  <class 'jax.numpy.float64'>\n"
     ]
    }
   ],
   "source": [
    "#generic imports\n",
    "import numpy as np\n",
    "import time\n",
    "import matplotlib.pyplot as plt\n",
    "\n",
    "#ambit stochastics imports\n",
    "from generate_trawls_with_gaussian_marginal import generate_gaussian_seed_trawls\n",
    "#gmm fitting of envelope params + gmm / mle for levy seed params\n",
    "from ambit_stochastics.helpers.marginal_distribution_functions import fit_trawl_marginal\n",
    "from ambit_stochastics.helpers.acf_functions import fit_trawl_envelope_gmm\n",
    "import pickle\n",
    "\n",
    "#jax imports\n",
    "from jax.config import config\n",
    "config.update(\"jax_enable_x64\", True)\n",
    "from bfgs_for_cl_helper import do_modified_bfgs\n",
    "from   jax import random\n",
    "import jax.numpy as jnp\n",
    "import jax\n",
    "\n",
    "default_precision = jnp.float64\n",
    "print('Default precision is: ',default_precision)\n",
    "\n",
    "#trawl simulation parameters\n",
    "tau = 1\n",
    "nr_trawls = 150\n",
    "nr_simulations = 2\n",
    "TRUE_GAUSSIAN_PARAMS = (-5, 3) #alpha, beta (rate) not alpha, theta (scale). trawl simulation uses alpha, scale, so need to pass 5, 1/2 there\n",
    "assert TRUE_GAUSSIAN_PARAMS[1] > 0\n",
    "envelope = 'gamma'\n",
    "jax_seed = 4564340345993\n",
    "key = random.PRNGKey(jax_seed)\n",
    "\n",
    "#trawl function parameters\n",
    "TRUE_ENVELOPE_PARAMS = (1.5,0.75)\n",
    "np.random.seed(seed = 36363)\n",
    "\n",
    "np_random_seeds = np.random.randint(low = 1, high = 2**31, size = 1)\n",
    "    \n",
    "\n",
    "trawl_instance =  generate_gaussian_seed_trawls(tau = tau,nr_simulations = nr_simulations,\n",
    "                      nr_trawls = nr_trawls, envelope = envelope,envelope_params = TRUE_ENVELOPE_PARAMS,\n",
    "                      gaussian_part_params = TRUE_GAUSSIAN_PARAMS,np_seed = np_random_seeds[0])  "
   ]
  },
  {
   "cell_type": "code",
   "execution_count": 90,
   "id": "cbb1d95c",
   "metadata": {},
   "outputs": [],
   "source": [
    "#np.mean(trawl_instance.values[-1]),(np.mean(trawl_instance.values[-1]**2) - np.mean(trawl_instance.values[-1])**2)**0.5\n",
    "lags_to_use   = (1,3,5,10)\n",
    "n_to_use      = 100\n",
    "values_to_use = trawl_instance.values[0,:n_to_use]  \n",
    "\n",
    "initial_tensor = jnp.array([-4.5, np.log(3.5),np.log(TRUE_ENVELOPE_PARAMS[0]),np.log(TRUE_ENVELOPE_PARAMS[1])])\n",
    "\n",
    "\n",
    "nr_samples  =    10**5\n",
    "max_taylor_deg = 3\n",
    "nr_batches= 5\n",
    "\n",
    "from jax_aux_jitted_gaussian import corr_jax,create_joints_jax, sample_z, estimators_likelihood_CV_demo,likelihood_and_grad,likelihood_jacobians\n",
    "pairs = create_joints_jax(values_to_use,1)\n",
    "l1,l2 = pairs[:,0], pairs[:,1]\n",
    "transformed_params_ = initial_tensor.copy()\n",
    "transformed_params_1_ = initial_tensor.copy()\n",
    "\n",
    "delta_x = 10**(-4)"
   ]
  },
  {
   "cell_type": "code",
   "execution_count": 91,
   "id": "7790f327",
   "metadata": {},
   "outputs": [],
   "source": [
    "#np.save(file =  'values_to_use.npy', arr = values_to_use)"
   ]
  },
  {
   "cell_type": "code",
   "execution_count": 92,
   "id": "029fee7f",
   "metadata": {},
   "outputs": [],
   "source": [
    "z   = sample_z(transformed_params_1_ = transformed_params_1_, tau_ = tau, l1 = l1, envelope = envelope, nr_samples = nr_samples, key_ = key)\n",
    "tau_ = tau\n",
    "result = estimators_likelihood_CV_demo(transformed_params_ = transformed_params_, transformed_params_1_ = transformed_params_1_,\n",
    "                              pairs = pairs, envelope = envelope, tau =  tau, nr_samples = nr_samples, key = key)\n",
    "\n",
    "result_dispalced_1 = estimators_likelihood_CV_demo(transformed_params_ = transformed_params_ + delta_x * jnp.array([1,0,0,0]), transformed_params_1_ = transformed_params_1_ + delta_x * jnp.array([1,0,0,0]),\n",
    "                              pairs = pairs, envelope = envelope, tau =  tau, nr_samples = nr_samples, key = key)\n",
    "\n",
    "result_dispalced_2 = estimators_likelihood_CV_demo(transformed_params_ = transformed_params_ + delta_x * jnp.array([0,1,0,0]), transformed_params_1_ = transformed_params_1_ + delta_x * jnp.array([0,1,0,0]),\n",
    "                              pairs = pairs, envelope = envelope, tau =  tau, nr_samples = nr_samples, key = key)\n",
    "\n",
    "result_dispalced_3 = estimators_likelihood_CV_demo(transformed_params_ = transformed_params_ + delta_x * jnp.array([0,0,1,0]), transformed_params_1_ = transformed_params_1_ + delta_x * jnp.array([0,0,1,0]),\n",
    "                              pairs = pairs, envelope = envelope, tau =  tau, nr_samples = nr_samples, key = key)\n",
    "\n",
    "result_dispalced_4 = estimators_likelihood_CV_demo(transformed_params_ = transformed_params_ + delta_x * jnp.array([0,0,0,1]), transformed_params_1_ = transformed_params_1_ + delta_x * jnp.array([0,0,0,1]),\n",
    "                              pairs = pairs, envelope = envelope, tau =  tau, nr_samples = nr_samples, key = key)"
   ]
  },
  {
   "cell_type": "code",
   "execution_count": 93,
   "id": "b805517e",
   "metadata": {},
   "outputs": [],
   "source": [
    "l_and_grad = likelihood_and_grad(transformed_theta = transformed_params_, transformed_theta_1 = transformed_params_1_,\n",
    "                    pairs = pairs, envelope = envelope, tau = tau , nr_mc_samples_per_batch = nr_samples, nr_batches =nr_batches , \n",
    "                    max_taylor_deg = max_taylor_deg, key = key)\n",
    "l_and_grad_2 = likelihood_jacobians(transformed_params_,  transformed_params_1_,   pairs , envelope , tau , nr_samples , key )"
   ]
  },
  {
   "cell_type": "code",
   "execution_count": 124,
   "id": "9fba4047",
   "metadata": {},
   "outputs": [],
   "source": [
    "jacobians_f, jacobians_z = l_and_grad_2\n",
    "nabla_theta_f, pg_f = jacobians_f  \n",
    "zero_variable, pg_z = jacobians_z\n",
    "#print(pg_f.shape)\n",
    "#print(pg_f.mean(axis=1))\n",
    "to_use = 3\n",
    "\n",
    "results_dispacled = [result_dispalced_1,result_dispalced_2,result_dispalced_3,result_dispalced_4]\n",
    "finite_diff_approx = (results_dispacled[to_use-1][0].mean(axis=1) - result[0].mean(axis=1))/delta_x\n",
    "ad = (nabla_theta_f + pg_f).mean(axis=1)[:,to_use-1]\n",
    "correction_chain_rule = np.array([1, 3.5,TRUE_ENVELOPE_PARAMS[0],TRUE_ENVELOPE_PARAMS[1]])\n"
   ]
  },
  {
   "cell_type": "code",
   "execution_count": 125,
   "id": "75ed0f6c",
   "metadata": {},
   "outputs": [
    {
     "data": {
      "text/plain": [
       "(array([5.44515597e-02, 1.18761992e-02, 5.70211358e-03, 1.00655533e-02,\n",
       "        4.28966260e-02, 5.83918914e-03, 6.72167047e-03, 6.68911504e-03,\n",
       "        1.13721757e-04, 3.47786719e-03, 6.16524753e-03, 9.11628238e-03,\n",
       "        1.97115292e-02, 8.39981386e-03, 8.95585038e-03, 5.57811298e-03,\n",
       "        3.90718966e-03, 3.99309777e-03, 3.37423560e-03, 4.01431175e-04,\n",
       "        4.99696737e-04, 9.09925300e-03, 9.39588889e-03, 8.94291919e-03,\n",
       "        8.62521654e-01, 6.25884511e-03, 7.88264103e-03, 6.62380039e-03,\n",
       "        8.46215344e-04, 1.20748832e-03, 7.38502002e-03, 1.02131017e-02,\n",
       "        6.36274914e-03, 1.98490378e-02, 1.35169641e-03, 4.39922973e-03,\n",
       "        5.96973358e-03, 6.51906021e-03, 3.20080256e-03, 4.01317065e-03,\n",
       "        2.80472073e-03, 3.03029118e-03, 3.93177623e-03, 5.43886297e-03,\n",
       "        7.88021672e-03, 7.36552509e-03, 6.17181968e-03, 5.64144563e-02,\n",
       "        5.23583233e-04, 2.89362060e-03, 3.65334421e-03, 5.55769604e-03,\n",
       "        1.49942961e-03, 3.29012350e-03, 3.66411530e-03, 1.00351603e-02,\n",
       "        2.62048704e-02, 3.30408700e-03, 1.13108840e-02, 9.71335704e-03,\n",
       "        2.95863591e-03, 3.36713272e-03, 3.55313042e-03, 5.00571196e-03,\n",
       "        5.70302400e-03, 7.01943831e-03, 8.96666519e-03, 7.69360785e-03,\n",
       "        9.38551164e-03, 8.81899673e-03, 8.06156731e-03, 9.60903722e-03,\n",
       "        1.02039154e-02, 7.97638616e-03, 1.03420905e-02, 5.21388917e-03,\n",
       "        5.25708740e-03, 1.32126517e-02, 8.91356690e-03, 9.44498115e-03,\n",
       "        9.75756494e-03, 2.23182495e-03, 1.88966133e-03, 6.34310386e-03,\n",
       "        7.05985602e-03, 5.95912102e-03, 6.49721539e-03, 7.96487280e-03,\n",
       "        7.51380447e-03, 4.08002795e-03, 3.87082481e-03, 2.79080693e-03,\n",
       "        9.37513511e-03, 2.10609459e-03, 1.69649365e-03, 1.34418684e-03,\n",
       "        3.32098855e-03, 3.32416599e-03, 7.29434758e-03]),\n",
       " array([1.99400247e+00, 8.91830176e-01, 1.46828997e-01, 3.27251230e-01,\n",
       "        3.28080125e+00, 7.16547720e-02, 2.52273326e+00, 4.45287955e-01,\n",
       "        2.90543125e+00, 1.38900585e-01, 1.85849903e-02, 2.62840721e+00,\n",
       "        1.88589600e+01, 9.33694739e+00, 8.99369273e-01, 9.54177478e-02,\n",
       "        7.34005736e-01, 3.64770120e-02, 3.88284593e-01, 2.55745794e+00,\n",
       "        1.78059960e-01, 1.28377678e+00, 1.49315864e-01, 6.41346990e-02,\n",
       "        1.38587471e+02, 5.04194612e-01, 6.66849012e-01, 2.12358171e+00,\n",
       "        1.09984681e+00, 1.51750073e+00, 3.17200902e+00, 5.33195435e+00,\n",
       "        8.43355098e-01, 3.29466227e+00, 9.36358794e-01, 7.57258026e-01,\n",
       "        1.05643368e+00, 1.00478406e+00, 1.46531603e+00, 2.39463927e+00,\n",
       "        2.40620675e-02, 1.23347082e-01, 1.82992726e-01, 2.11781048e+00,\n",
       "        8.54597896e-01, 6.28824852e-03, 2.15101897e+00, 1.14476046e+00,\n",
       "        3.79329752e-01, 6.55415584e-01, 5.09207462e-01, 1.70002324e+00,\n",
       "        2.43284592e+00, 3.06824255e-01, 6.49226897e+00, 1.42409963e-01,\n",
       "        3.49645106e+00, 5.23249879e-02, 2.10423161e+00, 4.81603347e-01,\n",
       "        2.64048889e-02, 8.25877816e-01, 1.27779535e-01, 1.87482292e-01,\n",
       "        1.43973927e+00, 6.43879976e-01, 2.55212543e+00, 5.75940488e-01,\n",
       "        7.88803870e-01, 2.60672970e+00, 4.01550419e-01, 5.74680411e-01,\n",
       "        1.85348537e+00, 1.24288241e+00, 1.73705165e+00, 4.66290642e+00,\n",
       "        2.56853967e+00, 1.17206673e+00, 1.53894178e+00, 1.58157769e+00,\n",
       "        2.90942953e+00, 1.45807516e-02, 2.42406307e+00, 1.19431344e+00,\n",
       "        5.78368777e-01, 2.64417694e-01, 5.97876113e-01, 1.02024960e+00,\n",
       "        2.40240021e-01, 3.21406096e+00, 5.24760896e-01, 4.54714551e+00,\n",
       "        7.65538046e-01, 1.45161932e+00, 1.74505445e+00, 1.95070204e+00,\n",
       "        3.75973620e-01, 1.18568283e+00, 4.47762376e-02]))"
      ]
     },
     "execution_count": 125,
     "metadata": {},
     "output_type": "execute_result"
    }
   ],
   "source": [
    "np.abs(100 *(ad - finite_diff_approx) / ad),np.abs(100 * (r_all[to_use] *np.exp(r_all[0]) -finite_diff_approx / correction_chain_rule[to_use-1] ) / (r_all[to_use] * np.exp(r_all[0])))"
   ]
  },
  {
   "cell_type": "code",
   "execution_count": null,
   "id": "48f20ae6",
   "metadata": {},
   "outputs": [],
   "source": []
  },
  {
   "cell_type": "code",
   "execution_count": null,
   "id": "177ad245",
   "metadata": {},
   "outputs": [],
   "source": []
  },
  {
   "cell_type": "code",
   "execution_count": null,
   "id": "c287f01b",
   "metadata": {},
   "outputs": [],
   "source": [
    "#np.median(np.abs((pg_f.mean(axis=1) - l_and_grad[2])/ l_and_grad[2]),axis=0)\n",
    "# THIS IS OK np.median(100*np.abs((nabla_theta_f.mean(axis=1) - (l_and_grad[1] -l_and_grad[2] ))/ nabla_theta_f.mean(axis=1)),axis=0)"
   ]
  },
  {
   "cell_type": "code",
   "execution_count": 97,
   "id": "a8d58bed",
   "metadata": {},
   "outputs": [],
   "source": [
    "#zzzzzz = np.log(result[0].mean(axis=1))\n",
    "#print(np.sum(zzzzzz),'\\n')\n",
    "#print(zzzzzz)\n",
    "\n",
    "#print(result[0].mean(axis=1))\n",
    "r_all = np.load('r_all.npy')\n",
    "#r_all.shape #likelihood and then grads\n",
    "#100 *(r_all[0] - np.log(l_and_grad[0])) / r_all[0]#likelihood looks good"
   ]
  },
  {
   "cell_type": "code",
   "execution_count": 46,
   "id": "120213b8",
   "metadata": {},
   "outputs": [
    {
     "data": {
      "text/plain": [
       "array([ 3.90382165,  0.04305877, 14.84612883, 14.8462256 ])"
      ]
     },
     "execution_count": 46,
     "metadata": {},
     "output_type": "execute_result"
    }
   ],
   "source": [
    "\n",
    "pdv_log_likelihood = np.array([l_and_grad[1][:,i]/ (l_and_grad[0] * correction_chain_rule[i] ) for i in range(4)])\n",
    "pdv_log_likelihood_percentage_errors = [100*np.abs(pdv_log_likelihood[i] - r_all[i+1])/np.abs(r_all[i+1])  for i in range(4)]\n",
    "np.median(pdv_log_likelihood_percentage_errors,axis=1)\n",
    "\n",
    "#pdv_log_likelihood = np.array([l_and_grad[2][:,i]/ (l_and_grad[0] * correction_chain_rule[i] ) for i in range(4)])\n",
    "#pdv_log_likelihood_percentage_errors = [100*np.abs(pdv_log_likelihood[i] - r_all[i+1])/np.abs(r_all[i+1])  for i in range(4)]\n"
   ]
  },
  {
   "cell_type": "code",
   "execution_count": 17,
   "id": "beac6334",
   "metadata": {},
   "outputs": [
    {
     "data": {
      "text/plain": [
       "array([ 98.55031361, 218.85470694,  88.66853484, 234.82629126])"
      ]
     },
     "execution_count": 17,
     "metadata": {},
     "output_type": "execute_result"
    }
   ],
   "source": [
    "pdv_log_likelihood_pg_f = np.array([np.mean(pg_f +nabla_theta_f,axis=1)[:,i]/ (l_and_grad[0] * correction_chain_rule[i] ) for i in range(4)])\n",
    "pdv_log_likelihood_percentage_errors_pg_f = [100*np.abs(r_all[i] - pdv_log_likelihood_pg_f[i])/np.abs(r_all[i])  for i in range(4)]\n",
    "\n",
    "np.median(pdv_log_likelihood_percentage_errors_pg_f,axis=1)"
   ]
  },
  {
   "cell_type": "code",
   "execution_count": null,
   "id": "79db62e0",
   "metadata": {},
   "outputs": [],
   "source": []
  },
  {
   "cell_type": "code",
   "execution_count": 18,
   "id": "122a3813",
   "metadata": {},
   "outputs": [
    {
     "ename": "NameError",
     "evalue": "name 'pdv_log_likelihood_2' is not defined",
     "output_type": "error",
     "traceback": [
      "\u001b[0;31m---------------------------------------------------------------------------\u001b[0m",
      "\u001b[0;31mNameError\u001b[0m                                 Traceback (most recent call last)",
      "Cell \u001b[0;32mIn[18], line 1\u001b[0m\n\u001b[0;32m----> 1\u001b[0m [\u001b[38;5;241m100\u001b[39m\u001b[38;5;241m*\u001b[39mnp\u001b[38;5;241m.\u001b[39mabs(pdv_log_likelihood_2[i] \u001b[38;5;241m-\u001b[39m r_all[i\u001b[38;5;241m+\u001b[39m\u001b[38;5;241m1\u001b[39m])\u001b[38;5;241m/\u001b[39mnp\u001b[38;5;241m.\u001b[39mabs(r_all[i\u001b[38;5;241m+\u001b[39m\u001b[38;5;241m1\u001b[39m])  \u001b[38;5;28;01mfor\u001b[39;00m i \u001b[38;5;129;01min\u001b[39;00m \u001b[38;5;28mrange\u001b[39m(\u001b[38;5;241m4\u001b[39m)]\n",
      "Cell \u001b[0;32mIn[18], line 1\u001b[0m, in \u001b[0;36m<listcomp>\u001b[0;34m(.0)\u001b[0m\n\u001b[0;32m----> 1\u001b[0m [\u001b[38;5;241m100\u001b[39m\u001b[38;5;241m*\u001b[39mnp\u001b[38;5;241m.\u001b[39mabs(\u001b[43mpdv_log_likelihood_2\u001b[49m[i] \u001b[38;5;241m-\u001b[39m r_all[i\u001b[38;5;241m+\u001b[39m\u001b[38;5;241m1\u001b[39m])\u001b[38;5;241m/\u001b[39mnp\u001b[38;5;241m.\u001b[39mabs(r_all[i\u001b[38;5;241m+\u001b[39m\u001b[38;5;241m1\u001b[39m])  \u001b[38;5;28;01mfor\u001b[39;00m i \u001b[38;5;129;01min\u001b[39;00m \u001b[38;5;28mrange\u001b[39m(\u001b[38;5;241m4\u001b[39m)]\n",
      "\u001b[0;31mNameError\u001b[0m: name 'pdv_log_likelihood_2' is not defined"
     ]
    }
   ],
   "source": [
    "[100*np.abs(pdv_log_likelihood_2[i] - r_all[i+1])/np.abs(r_all[i+1])  for i in range(4)]\n"
   ]
  },
  {
   "cell_type": "code",
   "execution_count": 19,
   "id": "34ae2ee1",
   "metadata": {},
   "outputs": [
    {
     "name": "stdout",
     "output_type": "stream",
     "text": [
      "[3.903821648117885, 0.04305876692733996, 14.846128833203402, 14.846225604950085]\n"
     ]
    },
    {
     "data": {
      "image/png": "[encoded data removed]",
      "text/plain": [
       "<Figure size 640x480 with 1 Axes>"
      ]
     },
     "metadata": {},
     "output_type": "display_data"
    }
   ],
   "source": [
    "import matplotlib.pyplot as plt\n",
    "print([np.median(pdv_log_likelihood_percentage_errors[i]) for i in range(4)])\n",
    "_ = plt.hist(pdv_log_likelihood[3])\n"
   ]
  },
  {
   "cell_type": "code",
   "execution_count": null,
   "id": "0989990d",
   "metadata": {},
   "outputs": [],
   "source": []
  },
  {
   "cell_type": "code",
   "execution_count": null,
   "id": "ba8a6622",
   "metadata": {},
   "outputs": [],
   "source": [
    "pdv_log_likelihood[3][24],r_all[3+1][24]"
   ]
  },
  {
   "cell_type": "code",
   "execution_count": null,
   "id": "3e5a70d0",
   "metadata": {},
   "outputs": [],
   "source": [
    "grad_differences = [100 * (l_and_grad[1][:,i] - r_all[i+1])/r_all[i+1] for i in range(4)]"
   ]
  },
  {
   "cell_type": "code",
   "execution_count": null,
   "id": "0460c349",
   "metadata": {},
   "outputs": [],
   "source": [
    "[np.median(i) for i in grad_differences]"
   ]
  },
  {
   "cell_type": "code",
   "execution_count": null,
   "id": "bd127c98",
   "metadata": {},
   "outputs": [],
   "source": [
    "import matplotlib.pyplot as plt\n",
    "_= plt.hist(grad_differences[1],bins = 150)"
   ]
  },
  {
   "cell_type": "code",
   "execution_count": 27,
   "id": "f6a57512",
   "metadata": {},
   "outputs": [
    {
     "ename": "NameError",
     "evalue": "name 'all_values' is not defined",
     "output_type": "error",
     "traceback": [
      "\u001b[0;31m---------------------------------------------------------------------------\u001b[0m",
      "\u001b[0;31mNameError\u001b[0m                                 Traceback (most recent call last)",
      "Cell \u001b[0;32mIn[27], line 1\u001b[0m\n\u001b[0;32m----> 1\u001b[0m \u001b[43mall_values\u001b[49m\n",
      "\u001b[0;31mNameError\u001b[0m: name 'all_values' is not defined"
     ]
    }
   ],
   "source": [
    "all_values"
   ]
  },
  {
   "cell_type": "code",
   "execution_count": 79,
   "id": "bcad21fb",
   "metadata": {},
   "outputs": [],
   "source": [
    "from jax_aux_jitted_gaussian import minus_lambda_function_for_cl_and_grad_at_lags\n",
    "\n",
    "\n",
    "\n",
    "minus_lambda_func_2 = minus_lambda_function_for_cl_and_grad_at_lags(values_to_use, envelope, \\\n",
    "                                        tau , nr_samples, nr_batches, \n",
    "                                        2, key, lags_to_use)\n",
    "\n",
    "minus_lambda_func_3 = minus_lambda_function_for_cl_and_grad_at_lags(values_to_use, envelope, \\\n",
    "                                        tau , nr_samples, nr_batches, \n",
    "                                        3, key, lags_to_use)\n",
    "minus_lambda_func_4 = minus_lambda_function_for_cl_and_grad_at_lags(values_to_use, envelope, \\\n",
    "                                        tau , nr_samples, nr_batches, \n",
    "                                        4, key, lags_to_use)"
   ]
  },
  {
   "cell_type": "code",
   "execution_count": 80,
   "id": "09e24aa6",
   "metadata": {},
   "outputs": [
    {
     "data": {
      "text/plain": [
       "(Array(4.9870489, dtype=float64),\n",
       " Array([ 0.16744527,  0.63081933, -0.00188695,  0.00127258], dtype=float64))"
      ]
     },
     "execution_count": 80,
     "metadata": {},
     "output_type": "execute_result"
    }
   ],
   "source": [
    "minus_lambda_func_2(transformed_params_)"
   ]
  },
  {
   "cell_type": "code",
   "execution_count": 81,
   "id": "855776e2",
   "metadata": {},
   "outputs": [
    {
     "data": {
      "text/plain": [
       "(Array(nan, dtype=float64),\n",
       " Array([-0.01862151,  0.72388627, -0.1959936 ,  0.1321806 ], dtype=float64))"
      ]
     },
     "execution_count": 81,
     "metadata": {},
     "output_type": "execute_result"
    }
   ],
   "source": [
    "minus_lambda_func_3(transformed_params_)"
   ]
  },
  {
   "cell_type": "code",
   "execution_count": 82,
   "id": "f55747b2",
   "metadata": {},
   "outputs": [
    {
     "data": {
      "text/plain": [
       "(Array(4.98708576, dtype=float64),\n",
       " Array([ 0.05777528,  0.63089838, -0.02500646,  0.01686468], dtype=float64))"
      ]
     },
     "execution_count": 82,
     "metadata": {},
     "output_type": "execute_result"
    }
   ],
   "source": [
    "minus_lambda_func_4(transformed_params_)"
   ]
  },
  {
   "cell_type": "code",
   "execution_count": 83,
   "id": "e2fc447f",
   "metadata": {},
   "outputs": [
    {
     "data": {
      "text/plain": [
       "5.033068282897426"
      ]
     },
     "execution_count": 83,
     "metadata": {},
     "output_type": "execute_result"
    }
   ],
   "source": [
    "lag_ = 3 #!!!!!!!\n",
    "pairs_at_lag_3 = create_joints_jax(values_to_use,lag_)\n",
    "likelihood, _ = estimators_likelihood_CV_demo(transformed_params_ = transformed_params_.copy(), transformed_params_1_ = transformed_params_.copy(), pairs = pairs_at_lag_3, envelope = envelope,\n",
    "                                tau = tau * lag_, nr_samples = nr_samples, key = key) #subkey not key here\n",
    "jacobians_f, jacobians_z = likelihood_jacobians(transformed_params_.copy(), transformed_params_1_.copy(), pairs_at_lag_3, envelope, tau * lag_, nr_samples, key)\n",
    "nabla_theta_f, pg_f = jacobians_f  \n",
    "-np.mean(np.log(likelihood.mean(axis=1)),axis=0)"
   ]
  },
  {
   "cell_type": "code",
   "execution_count": 84,
   "id": "b4a8d1ba",
   "metadata": {},
   "outputs": [
    {
     "data": {
      "text/plain": [
       "-5.033430586947184"
      ]
     },
     "execution_count": 84,
     "metadata": {},
     "output_type": "execute_result"
    }
   ],
   "source": [
    "likelihood2, _ = estimators_likelihood_CV_demo(transformed_params_ = transformed_params_.copy(), transformed_params_1_ = transformed_params_.copy(), pairs = pairs_at_lag_3, envelope = envelope,\n",
    "                                tau = tau * lag_, nr_samples = nr_samples, key = random.split(key)[1]) #subkey not key here\n",
    "np.log(likelihood2.mean(axis=1)).mean(axis=0)"
   ]
  },
  {
   "cell_type": "code",
   "execution_count": 85,
   "id": "58b387b9",
   "metadata": {},
   "outputs": [
    {
     "data": {
      "text/plain": [
       "Array([ 0.07749922,  0.61267187, -0.01913413,  0.00951096], dtype=float64)"
      ]
     },
     "execution_count": 85,
     "metadata": {},
     "output_type": "execute_result"
    }
   ],
   "source": [
    "-np.mean((nabla_theta_f + pg_f).mean(axis=1) / likelihood.mean(axis=1,keepdims=True),axis=0)"
   ]
  },
  {
   "cell_type": "code",
   "execution_count": 87,
   "id": "30fdb3d1",
   "metadata": {},
   "outputs": [
    {
     "data": {
      "text/plain": [
       "(Array(5.0179901, dtype=float64),\n",
       " Array([ 0.05236269,  0.60046246, -0.01254031,  0.00623339], dtype=float64))"
      ]
     },
     "execution_count": 87,
     "metadata": {},
     "output_type": "execute_result"
    }
   ],
   "source": [
    "minus_lambda_func_3 = minus_lambda_function_for_cl_and_grad_at_lags(values_to_use, envelope, \\\n",
    "                                        tau , nr_samples, nr_batches, \n",
    "                                        3, key, (lag_,))\n",
    "\n",
    "minus_lambda_func_3(transformed_params_.copy())"
   ]
  },
  {
   "cell_type": "code",
   "execution_count": 88,
   "id": "2d96b9f1",
   "metadata": {},
   "outputs": [
    {
     "data": {
      "text/plain": [
       "(Array(5.03313463, dtype=float64),\n",
       " Array([ 0.07339798,  0.61249286, -0.07719407,  0.0383707 ], dtype=float64))"
      ]
     },
     "execution_count": 88,
     "metadata": {},
     "output_type": "execute_result"
    }
   ],
   "source": [
    "minus_lambda_func_2 = minus_lambda_function_for_cl_and_grad_at_lags(values_to_use, envelope, \\\n",
    "                                        tau , nr_samples, nr_batches, \n",
    "                                        2, key, (lag_,))\n",
    "\n",
    "minus_lambda_func_2(transformed_params_.copy())"
   ]
  },
  {
   "cell_type": "code",
   "execution_count": null,
   "id": "519e49c5",
   "metadata": {},
   "outputs": [],
   "source": []
  }
 ],
 "metadata": {
  "kernelspec": {
   "display_name": "Python 3 (ipykernel)",
   "language": "python",
   "name": "python3"
  },
  "language_info": {
   "codemirror_mode": {
    "name": "ipython",
    "version": 3
   },
   "file_extension": ".py",
   "mimetype": "text/x-python",
   "name": "python",
   "nbconvert_exporter": "python",
   "pygments_lexer": "ipython3",
   "version": "3.8.10"
  }
 },
 "nbformat": 4,
 "nbformat_minor": 5
}

{
 "cells": [
  {
   "cell_type": "code",
   "execution_count": null,
   "id": "eeb891f2",
   "metadata": {},
   "outputs": [],
   "source": []
  },
  {
   "cell_type": "code",
   "execution_count": 14,
   "id": "3280e5ef",
   "metadata": {},
   "outputs": [],
   "source": [
    "from import_file import import_file\n",
    "from pathlib import Path\n",
    "import os\n",
    "\n",
    "#simulate the trawl process\n",
    "#change the np_random_seed if doing a simulation study with more \n",
    "generate_trawls_with_gamma_marginal = import_file(os.path.join(Path(os.getcwd()).parent.parent,'generate_trawls_with_gamma_marginal')) \n",
    "generate_gamma_seed_trawls  = generate_trawls_with_gamma_marginal.generate_gamma_seed_trawls\n",
    "\n",
    "\n",
    "trawl_instance =  generate_gamma_seed_trawls(tau = tau,nr_simulations = nr_simulations,\n",
    "                  nr_trawls = nr_trawls, envelope = envelope,envelope_params = TRUE_ENVELOPE_PARAMS,\n",
    "                  jump_part_params = TRUE_GAMMA_PARAMS,np_seed = np_random_seeds[0])  \n",
    "#need to change np_random_seeds[-1] and the key in jax if doing a simulation study \n",
    "\n",
    "all_values = trawl_instance.values\n"
   ]
  },
  {
   "cell_type": "code",
   "execution_count": 15,
   "id": "628ce965",
   "metadata": {},
   "outputs": [],
   "source": [
    "with open('values.npy', 'wb') as f:\n",
    "    np.save(f, all_values)"
   ]
  },
  {
   "cell_type": "code",
   "execution_count": null,
   "id": "f1848896",
   "metadata": {},
   "outputs": [],
   "source": []
  }
 ],
 "metadata": {
  "kernelspec": {
   "display_name": "Python 3 (ipykernel)",
   "language": "python",
   "name": "python3"
  },
  "language_info": {
   "codemirror_mode": {
    "name": "ipython",
    "version": 3
   },
   "file_extension": ".py",
   "mimetype": "text/x-python",
   "name": "python",
   "nbconvert_exporter": "python",
   "pygments_lexer": "ipython3",
   "version": "3.10.11"
  }
 },
 "nbformat": 4,
 "nbformat_minor": 5
}

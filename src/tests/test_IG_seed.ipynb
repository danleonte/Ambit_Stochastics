{
 "cells": [
  {
   "cell_type": "code",
   "execution_count": 1,
   "id": "4881d6f4",
   "metadata": {},
   "outputs": [],
   "source": [
    "#module imports\n",
    "%matplotlib inline\n",
    "from statsmodels.graphics.tsaplots import plot_acf, plot_pacf\n",
    "from ambit_stochastics.trawl import trawl\n",
    "from scipy.stats import norm,gamma,nbinom\n",
    "from scipy.integrate import quad\n",
    "import matplotlib.pyplot as plt\n",
    "import numpy as np\n",
    "import math\n",
    "plt.style.use('ggplot')\n",
    "\n",
    "#from pandas.plotting import lag_plot\n",
    "#from scipy import stats\n",
    "#import statsmodels.api as sm\n",
    "#import time \n",
    "np.random.seed(seed=31051965)\n",
    "from scipy.stats import invgauss"
   ]
  },
  {
   "cell_type": "code",
   "execution_count": 18,
   "id": "4500f6b9",
   "metadata": {},
   "outputs": [],
   "source": [
    "tau = 0.25\n",
    "nr_trawls = 1000  #this is k\n",
    "nr_simulations = 2\n",
    "trawl_function_slice = lambda x :  np.exp(x) * (x<=0)\n",
    "decorrelation_time_slice = -np.inf\n",
    "gaussian_part_params = (0,0)\n",
    "jump_part_params = (2,3)\n",
    "jump_part_name   = 'invgauss' #can be None,'cauchy','invgauss','poisson' (more to be implemented)\n",
    "total_area = quad(trawl_function_slice,decorrelation_time_slice,0)[0]"
   ]
  },
  {
   "cell_type": "code",
   "execution_count": 19,
   "id": "e75bbe83",
   "metadata": {},
   "outputs": [],
   "source": [
    "trawl_slice = trawl(nr_trawls = nr_trawls, nr_simulations = nr_simulations,trawl_function = trawl_function_slice,tau =  tau,\n",
    "                   decorrelation_time =  decorrelation_time_slice, gaussian_part_params = gaussian_part_params,\n",
    "                   jump_part_name =  jump_part_name,jump_part_params = jump_part_params)   \n",
    "trawl_slice.simulate(method='slice')"
   ]
  },
  {
   "cell_type": "code",
   "execution_count": 20,
   "id": "c9e9d2e2",
   "metadata": {},
   "outputs": [
    {
     "data": {
      "image/png": "[encoded data removed]",
      "text/plain": [
       "<Figure size 864x432 with 1 Axes>"
      ]
     },
     "metadata": {},
     "output_type": "display_data"
    }
   ],
   "source": [
    "fig_acf, ax_acf = plt.subplots(1,1,figsize=(12,6))\n",
    "plot_acf(trawl_slice.values[1], lags = 9, ax=ax_acf, color = 'blue', label='empirical')\n",
    "ax_acf.set_xlabel('lag')\n",
    "x = np.arange(1,10,1)\n",
    "y = trawl_slice.theoretical_acf(np.arange(1,10,1)*trawl_slice.tau)\n",
    "\n",
    "\n",
    "_ = ax_acf.scatter(x,y.values(),marker = \"*\", color = 'r',s = 300,alpha = 0.5,label='theoretical')\n",
    "_ = ax_acf.legend()"
   ]
  },
  {
   "cell_type": "code",
   "execution_count": 21,
   "id": "db780ee8",
   "metadata": {},
   "outputs": [
    {
     "data": {
      "text/plain": [
       "(array([1.97781505, 3.11790096]), array([1.97781505, 3.11790096]))"
      ]
     },
     "execution_count": 21,
     "metadata": {},
     "output_type": "execute_result"
    }
   ],
   "source": [
    "r_gmm = [invgauss.fit(data = trawl_slice.values[i], floc = 0) for i in range(nr_simulations)]\n",
    "np.mean(r_gmm,axis=0)[[0,2]], np.median(r_gmm,axis=0)[[0,2]]"
   ]
  },
  {
   "cell_type": "code",
   "execution_count": null,
   "id": "0782ddf5",
   "metadata": {},
   "outputs": [],
   "source": []
  },
  {
   "cell_type": "code",
   "execution_count": 77,
   "id": "1b4a96f3",
   "metadata": {},
   "outputs": [],
   "source": [
    "#scaling checks\n",
    "mu =1.25\n",
    "scale = 3\n",
    "leb_A = 5.75\n",
    "new_mu = mu / leb_A\n",
    "new_scale = scale * leb_A**2\n",
    "\n",
    "r1 = np.array([invgauss(mu = mu,scale = scale ,loc=0).mean(),invgauss(mu = mu,scale = scale).var()])\n",
    "r2 = np.array([invgauss(mu = new_mu,scale = new_scale ,loc=0).mean(),invgauss(mu = new_mu,scale = new_scale).var()])"
   ]
  },
  {
   "cell_type": "code",
   "execution_count": 78,
   "id": "645ad7ed",
   "metadata": {},
   "outputs": [
    {
     "data": {
      "text/plain": [
       "array([5.75, 5.75])"
      ]
     },
     "execution_count": 78,
     "metadata": {},
     "output_type": "execute_result"
    }
   ],
   "source": [
    "r2/r1"
   ]
  },
  {
   "cell_type": "code",
   "execution_count": null,
   "id": "68c9d1d7",
   "metadata": {},
   "outputs": [],
   "source": []
  }
 ],
 "metadata": {
  "kernelspec": {
   "display_name": "Python 3 (ipykernel)",
   "language": "python",
   "name": "python3"
  },
  "language_info": {
   "codemirror_mode": {
    "name": "ipython",
    "version": 3
   },
   "file_extension": ".py",
   "mimetype": "text/x-python",
   "name": "python",
   "nbconvert_exporter": "python",
   "pygments_lexer": "ipython3",
   "version": "3.8.5"
  }
 },
 "nbformat": 4,
 "nbformat_minor": 5
}
